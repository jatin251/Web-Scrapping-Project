{
 "cells": [
  {
   "cell_type": "code",
   "execution_count": 4,
   "id": "2b479b5c-639a-4c59-a273-6fc9290afc31",
   "metadata": {},
   "outputs": [],
   "source": [
    "import requests"
   ]
  },
  {
   "cell_type": "code",
   "execution_count": 5,
   "id": "b3926a57-958c-4b5c-be49-e499d824c0e4",
   "metadata": {},
   "outputs": [],
   "source": [
    "topics_url='https://github.com/topics'\n",
    "response =requests.get(topics_url)"
   ]
  },
  {
   "cell_type": "code",
   "execution_count": 20,
   "id": "a9d7d274-1a83-4299-b62a-ca091bdb26bf",
   "metadata": {},
   "outputs": [
    {
     "data": {
      "text/plain": [
       "'\\n<!DOCTYPE html>\\n<html\\n  lang=\"en\"\\n  \\n  data-color-mode=\"auto\" data-light-theme=\"light\" data-dark-theme=\"dark\"\\n  data-a11y-animated-images=\"system\" data-a11y-link-underlines=\"true\"\\n  >\\n\\n\\n\\n\\n  <head>\\n    <meta charset=\"utf-8\">\\n  <link rel=\"dns-prefetch\" href=\"https://github.githubassets.com\">\\n  <link rel=\"dns-prefetch\" href=\"https://avatars.githubusercontent.com\">\\n  <link rel=\"dns-prefetch\" href=\"https://github-cloud.s3.amazonaws.com\">\\n  <link rel=\"dns-prefetch\" href=\"https://user-images.githubusercontent.com/\">\\n  <link rel=\"preconnect\" href=\"https://github.githubassets.com\" crossorigin>\\n  <link rel=\"preconnect\" href=\"https://avatars.githubusercontent.com\">\\n\\n  \\n\\n  <link crossorigin=\"anonymous\" media=\"all\" rel=\"stylesheet\" href=\"https://github.githubassets.com/assets/light-0eace2597ca3.css\" /><link crossorigin=\"anonymous\" media=\"all\" rel=\"stylesheet\" href=\"https://github.githubassets.com/assets/dark-a167e256da9c.css\" /><link data-color-theme=\"dark_dimmed\" crossorigin=\"anonymous\" media=\"a'"
      ]
     },
     "execution_count": 20,
     "metadata": {},
     "output_type": "execute_result"
    }
   ],
   "source": [
    "# To calclulate the total length of the text \n",
    "len(response.text)\n",
    "page_contents=response.text\n",
    "\n",
    "page_contents[1:1000]"
   ]
  },
  {
   "cell_type": "code",
   "execution_count": 23,
   "id": "6b5afe45-e336-4101-83b8-3d1afcac3c46",
   "metadata": {},
   "outputs": [],
   "source": [
    "with open ('webpage.html','w',encoding='utf-8') as f:\n",
    "    f.write(page_contents)\n"
   ]
  },
  {
   "cell_type": "code",
   "execution_count": 31,
   "id": "b42fb0ef-59f1-482e-b60d-a06946bbe036",
   "metadata": {},
   "outputs": [],
   "source": [
    "# Now We Import BeautifulSoup libary of python which is used for webScrapping \n",
    "# for installing Beautifoul Libary  run pip install BeautifulSoup4  and if you are using Jupyter Notebook put ! at the starting of run line so that it can run on terminal  \n",
    "from bs4 import BeautifulSoup"
   ]
  },
  {
   "cell_type": "code",
   "execution_count": 32,
   "id": "510624e5-d7fd-4d59-8b43-8f3fe27faabd",
   "metadata": {},
   "outputs": [],
   "source": [
    "doc=BeautifulSoup(page_contents,'html.parser')"
   ]
  },
  {
   "cell_type": "code",
   "execution_count": 33,
   "id": "cf4de1dc-44f5-4fa4-8d22-3cddfee7ee3a",
   "metadata": {},
   "outputs": [],
   "source": [
    "#  now we extract all the p tags \n",
    "ptags=doc.find_all('p')\n"
   ]
  },
  {
   "cell_type": "code",
   "execution_count": 34,
   "id": "50986493-fec9-4606-9214-054ec41f9472",
   "metadata": {},
   "outputs": [
    {
     "data": {
      "text/plain": [
       "69"
      ]
     },
     "execution_count": 34,
     "metadata": {},
     "output_type": "execute_result"
    }
   ],
   "source": [
    "len(ptags)"
   ]
  },
  {
   "cell_type": "code",
   "execution_count": 35,
   "id": "2f5e67b3-ac77-4ac1-9663-1796d6c821d2",
   "metadata": {},
   "outputs": [
    {
     "data": {
      "text/plain": [
       "[<p>We read every piece of feedback, and take your input very seriously.</p>,\n",
       " <p class=\"text-small color-fg-muted\">\n",
       "             To see all available qualifiers, see our <a class=\"Link--inTextBlock\" href=\"https://docs.github.com/search-github/github-code-search/understanding-github-code-search-syntax\">documentation</a>.\n",
       "           </p>,\n",
       " <p class=\"f4 color-fg-muted col-md-6 mx-auto\">Browse popular topics on GitHub.</p>,\n",
       " <p class=\"f3 lh-condensed text-center Link--primary mb-0 mt-1\">\n",
       "         C++\n",
       "       </p>,\n",
       " <p class=\"f5 color-fg-muted text-center mb-0 mt-1\">C++ is a general purpose and object-oriented programming language.</p>,\n",
       " <p class=\"f3 lh-condensed text-center Link--primary mb-0 mt-1\">\n",
       "         Awesome Lists\n",
       "       </p>,\n",
       " <p class=\"f5 color-fg-muted text-center mb-0 mt-1\">An awesome list is a list of awesome things curated by the community.</p>,\n",
       " <p class=\"f3 lh-condensed text-center Link--primary mb-0 mt-1\">\n",
       "         R\n",
       "       </p>,\n",
       " <p class=\"f5 color-fg-muted text-center mb-0 mt-1\">R is a free programming language and software environment for statistical computing and graphics.</p>,\n",
       " <p class=\"f3 lh-condensed mb-0 mt-1 Link--primary\">3D</p>]"
      ]
     },
     "execution_count": 35,
     "metadata": {},
     "output_type": "execute_result"
    }
   ],
   "source": [
    "ptags[:10]"
   ]
  },
  {
   "cell_type": "code",
   "execution_count": 37,
   "id": "bcd56f71-c5f8-446a-ad09-e191a85ee52f",
   "metadata": {},
   "outputs": [],
   "source": [
    "selection_class ='f3 lh-condensed mb-0 mt-1 Link--primary'\n",
    "topic_title_tags=doc.find_all('p',{'class':selection_class})\n",
    "\n"
   ]
  },
  {
   "cell_type": "code",
   "execution_count": 38,
   "id": "4182416b-f5a2-4c21-a146-07899df597ef",
   "metadata": {},
   "outputs": [
    {
     "data": {
      "text/plain": [
       "30"
      ]
     },
     "execution_count": 38,
     "metadata": {},
     "output_type": "execute_result"
    }
   ],
   "source": [
    "len(topic_title_tags)"
   ]
  },
  {
   "cell_type": "code",
   "execution_count": 39,
   "id": "7528309c-c659-4278-b0d2-e748e9fdab18",
   "metadata": {},
   "outputs": [
    {
     "data": {
      "text/plain": [
       "[<p class=\"f3 lh-condensed mb-0 mt-1 Link--primary\">3D</p>,\n",
       " <p class=\"f3 lh-condensed mb-0 mt-1 Link--primary\">Ajax</p>,\n",
       " <p class=\"f3 lh-condensed mb-0 mt-1 Link--primary\">Algorithm</p>,\n",
       " <p class=\"f3 lh-condensed mb-0 mt-1 Link--primary\">Amp</p>,\n",
       " <p class=\"f3 lh-condensed mb-0 mt-1 Link--primary\">Android</p>,\n",
       " <p class=\"f3 lh-condensed mb-0 mt-1 Link--primary\">Angular</p>,\n",
       " <p class=\"f3 lh-condensed mb-0 mt-1 Link--primary\">Ansible</p>,\n",
       " <p class=\"f3 lh-condensed mb-0 mt-1 Link--primary\">API</p>,\n",
       " <p class=\"f3 lh-condensed mb-0 mt-1 Link--primary\">Arduino</p>,\n",
       " <p class=\"f3 lh-condensed mb-0 mt-1 Link--primary\">ASP.NET</p>]"
      ]
     },
     "execution_count": 39,
     "metadata": {},
     "output_type": "execute_result"
    }
   ],
   "source": [
    "topic_title_tags[0:10]"
   ]
  },
  {
   "cell_type": "code",
   "execution_count": 40,
   "id": "dafd4b59-56e4-4631-9249-08ea04998366",
   "metadata": {},
   "outputs": [],
   "source": [
    "# Now we scrap topic description "
   ]
  },
  {
   "cell_type": "code",
   "execution_count": 65,
   "id": "00492dbf-c306-4237-b4cc-164668f5c7da",
   "metadata": {},
   "outputs": [],
   "source": [
    "desc_selector='f5 color-fg-muted mb-0 mt-1'\n",
    "topic_desc_tags =doc.find_all('p', {'class':desc_selector})"
   ]
  },
  {
   "cell_type": "code",
   "execution_count": 66,
   "id": "589331b0-d1ff-4e5e-ba02-a97e952edd5f",
   "metadata": {},
   "outputs": [],
   "source": [
    "topic_link_tags=doc.find_all('a',{'class':' no-underline'})"
   ]
  },
  {
   "cell_type": "code",
   "execution_count": 69,
   "id": "fd211bc1-1b28-4c98-8682-cbb2229e25c2",
   "metadata": {},
   "outputs": [
    {
     "data": {
      "text/plain": [
       "30"
      ]
     },
     "execution_count": 69,
     "metadata": {},
     "output_type": "execute_result"
    }
   ],
   "source": [
    "len(topic_desc_tags)"
   ]
  },
  {
   "cell_type": "code",
   "execution_count": 71,
   "id": "28ae6ad9-d014-4f3d-9dd7-c0281a1a0513",
   "metadata": {},
   "outputs": [
    {
     "data": {
      "text/plain": [
       "[<p class=\"f5 color-fg-muted mb-0 mt-1\">\n",
       "           3D refers to the use of three-dimensional graphics, modeling, and animation in various industries.\n",
       "         </p>,\n",
       " <p class=\"f5 color-fg-muted mb-0 mt-1\">\n",
       "           Ajax is a technique for creating interactive web applications.\n",
       "         </p>,\n",
       " <p class=\"f5 color-fg-muted mb-0 mt-1\">\n",
       "           Algorithms are self-contained sequences that carry out a variety of tasks.\n",
       "         </p>,\n",
       " <p class=\"f5 color-fg-muted mb-0 mt-1\">\n",
       "           Amp is a non-blocking concurrency library for PHP.\n",
       "         </p>,\n",
       " <p class=\"f5 color-fg-muted mb-0 mt-1\">\n",
       "           Android is an operating system built by Google designed for mobile devices.\n",
       "         </p>]"
      ]
     },
     "execution_count": 71,
     "metadata": {},
     "output_type": "execute_result"
    }
   ],
   "source": [
    "topic_desc_tags[0:5]"
   ]
  },
  {
   "cell_type": "code",
   "execution_count": 75,
   "id": "e69fb8f6-110f-4815-8f68-e8933033095c",
   "metadata": {},
   "outputs": [
    {
     "data": {
      "text/plain": [
       "<a class=\"no-underline flex-1 d-flex flex-column\" href=\"/topics/3d\">\n",
       "<p class=\"f3 lh-condensed mb-0 mt-1 Link--primary\">3D</p>\n",
       "<p class=\"f5 color-fg-muted mb-0 mt-1\">\n",
       "          3D refers to the use of three-dimensional graphics, modeling, and animation in various industries.\n",
       "        </p>\n",
       "</a>"
      ]
     },
     "execution_count": 75,
     "metadata": {},
     "output_type": "execute_result"
    }
   ],
   "source": [
    "topic_title_tag0=topic_title_tags[0]\n",
    "topic_title_tag0.parent "
   ]
  },
  {
   "cell_type": "code",
   "execution_count": 81,
   "id": "b84a090b-3ae6-4e36-8661-5659d21f9511",
   "metadata": {},
   "outputs": [
    {
     "data": {
      "text/plain": [
       "30"
      ]
     },
     "execution_count": 81,
     "metadata": {},
     "output_type": "execute_result"
    }
   ],
   "source": [
    "topic_link_tags=doc.find_all('a',{'class':'no-underline flex-1 d-flex flex-column'})\n",
    "len(topic_link_tags)\n"
   ]
  },
  {
   "cell_type": "code",
   "execution_count": 82,
   "id": "3da86707-550e-46bb-a65e-0e6d79de8fa5",
   "metadata": {},
   "outputs": [
    {
     "data": {
      "text/plain": [
       "[<a class=\"no-underline flex-1 d-flex flex-column\" href=\"/topics/3d\">\n",
       " <p class=\"f3 lh-condensed mb-0 mt-1 Link--primary\">3D</p>\n",
       " <p class=\"f5 color-fg-muted mb-0 mt-1\">\n",
       "           3D refers to the use of three-dimensional graphics, modeling, and animation in various industries.\n",
       "         </p>\n",
       " </a>,\n",
       " <a class=\"no-underline flex-1 d-flex flex-column\" href=\"/topics/ajax\">\n",
       " <p class=\"f3 lh-condensed mb-0 mt-1 Link--primary\">Ajax</p>\n",
       " <p class=\"f5 color-fg-muted mb-0 mt-1\">\n",
       "           Ajax is a technique for creating interactive web applications.\n",
       "         </p>\n",
       " </a>,\n",
       " <a class=\"no-underline flex-1 d-flex flex-column\" href=\"/topics/algorithm\">\n",
       " <p class=\"f3 lh-condensed mb-0 mt-1 Link--primary\">Algorithm</p>\n",
       " <p class=\"f5 color-fg-muted mb-0 mt-1\">\n",
       "           Algorithms are self-contained sequences that carry out a variety of tasks.\n",
       "         </p>\n",
       " </a>,\n",
       " <a class=\"no-underline flex-1 d-flex flex-column\" href=\"/topics/amphp\">\n",
       " <p class=\"f3 lh-condensed mb-0 mt-1 Link--primary\">Amp</p>\n",
       " <p class=\"f5 color-fg-muted mb-0 mt-1\">\n",
       "           Amp is a non-blocking concurrency library for PHP.\n",
       "         </p>\n",
       " </a>,\n",
       " <a class=\"no-underline flex-1 d-flex flex-column\" href=\"/topics/android\">\n",
       " <p class=\"f3 lh-condensed mb-0 mt-1 Link--primary\">Android</p>\n",
       " <p class=\"f5 color-fg-muted mb-0 mt-1\">\n",
       "           Android is an operating system built by Google designed for mobile devices.\n",
       "         </p>\n",
       " </a>,\n",
       " <a class=\"no-underline flex-1 d-flex flex-column\" href=\"/topics/angular\">\n",
       " <p class=\"f3 lh-condensed mb-0 mt-1 Link--primary\">Angular</p>\n",
       " <p class=\"f5 color-fg-muted mb-0 mt-1\">\n",
       "           Angular is an open source web application platform.\n",
       "         </p>\n",
       " </a>,\n",
       " <a class=\"no-underline flex-1 d-flex flex-column\" href=\"/topics/ansible\">\n",
       " <p class=\"f3 lh-condensed mb-0 mt-1 Link--primary\">Ansible</p>\n",
       " <p class=\"f5 color-fg-muted mb-0 mt-1\">\n",
       "           Ansible is a simple and powerful automation engine.\n",
       "         </p>\n",
       " </a>,\n",
       " <a class=\"no-underline flex-1 d-flex flex-column\" href=\"/topics/api\">\n",
       " <p class=\"f3 lh-condensed mb-0 mt-1 Link--primary\">API</p>\n",
       " <p class=\"f5 color-fg-muted mb-0 mt-1\">\n",
       "           An API (Application Programming Interface) is a collection of protocols and subroutines for building software.\n",
       "         </p>\n",
       " </a>,\n",
       " <a class=\"no-underline flex-1 d-flex flex-column\" href=\"/topics/arduino\">\n",
       " <p class=\"f3 lh-condensed mb-0 mt-1 Link--primary\">Arduino</p>\n",
       " <p class=\"f5 color-fg-muted mb-0 mt-1\">\n",
       "           Arduino is an open source platform for building electronic devices.\n",
       "         </p>\n",
       " </a>,\n",
       " <a class=\"no-underline flex-1 d-flex flex-column\" href=\"/topics/aspnet\">\n",
       " <p class=\"f3 lh-condensed mb-0 mt-1 Link--primary\">ASP.NET</p>\n",
       " <p class=\"f5 color-fg-muted mb-0 mt-1\">\n",
       "           ASP.NET is a web framework for building modern web apps and services.\n",
       "         </p>\n",
       " </a>]"
      ]
     },
     "execution_count": 82,
     "metadata": {},
     "output_type": "execute_result"
    }
   ],
   "source": [
    "topic_link_tags[:10]"
   ]
  },
  {
   "cell_type": "code",
   "execution_count": 84,
   "id": "eb3b33d6-bc48-4efe-90ec-4781c0ec4110",
   "metadata": {},
   "outputs": [
    {
     "name": "stdout",
     "output_type": "stream",
     "text": [
      "https://github.com/topics/3d\n"
     ]
    }
   ],
   "source": [
    "topic0_url =\"https://github.com\"+topic_link_tags[0]['href']\n",
    "print(topic0_url)"
   ]
  },
  {
   "cell_type": "code",
   "execution_count": 87,
   "id": "350fc8bb-dd54-4b16-b6e8-b2732840f1de",
   "metadata": {},
   "outputs": [
    {
     "name": "stdout",
     "output_type": "stream",
     "text": [
      "['3D', 'Ajax', 'Algorithm', 'Amp', 'Android', 'Angular', 'Ansible', 'API', 'Arduino', 'ASP.NET', 'Atom', 'Awesome Lists', 'Amazon Web Services', 'Azure', 'Babel', 'Bash', 'Bitcoin', 'Bootstrap', 'Bot', 'C', 'Chrome', 'Chrome extension', 'Command line interface', 'Clojure', 'Code quality', 'Code review', 'Compiler', 'Continuous integration', 'COVID-19', 'C++']\n"
     ]
    }
   ],
   "source": [
    "# Now we print the Total title tag present in the https://github.com/topics \n",
    "topic_titles =[]\n",
    "for tag in topic_title_tags:\n",
    "    topic_titles.append(tag.text)\n",
    "print(topic_titles)"
   ]
  },
  {
   "cell_type": "code",
   "execution_count": 93,
   "id": "1d3fde07-3407-4ecb-a526-0a8d46837f61",
   "metadata": {},
   "outputs": [
    {
     "name": "stdout",
     "output_type": "stream",
     "text": [
      "['3D refers to the use of three-dimensional graphics, modeling, and animation in various industries.', 'Ajax is a technique for creating interactive web applications.', 'Algorithms are self-contained sequences that carry out a variety of tasks.', 'Amp is a non-blocking concurrency library for PHP.', 'Android is an operating system built by Google designed for mobile devices.', 'Angular is an open source web application platform.', 'Ansible is a simple and powerful automation engine.', 'An API (Application Programming Interface) is a collection of protocols and subroutines for building software.', 'Arduino is an open source platform for building electronic devices.', 'ASP.NET is a web framework for building modern web apps and services.', 'Atom is a open source text editor built with web technologies.', 'An awesome list is a list of awesome things curated by the community.', 'Amazon Web Services provides on-demand cloud computing platforms on a subscription basis.', 'Azure is a cloud computing service created by Microsoft.', 'Babel is a compiler for writing next generation JavaScript, today.', 'Bash is a shell and command language interpreter for the GNU operating system.', 'Bitcoin is a cryptocurrency developed by Satoshi Nakamoto.', 'Bootstrap is an HTML, CSS, and JavaScript framework.', 'A bot is an application that runs automated tasks over the Internet.', 'C is a general purpose programming language that first appeared in 1972.', 'Chrome is a web browser from the tech company Google.', 'Chrome extensions enable users to customize the Chrome browsing experience.', 'A CLI, or command-line interface, is a console that helps users issue commands to a program.', 'Clojure is a dynamic, general-purpose programming language.', 'Automate your code review with style, quality, security, and test‑coverage checks when you need them.', 'Ensure your code meets quality standards and ship with confidence.', 'Compilers are software that translate higher-level programming languages to lower-level languages (e.g. machine code).', 'Automatically build and test your code as you push it upstream, preventing bugs from being deployed to production.', 'The coronavirus disease 2019 (COVID-19) is an infectious disease caused by SARS-CoV-2.', 'C++ is a general purpose and object-oriented programming language.']\n"
     ]
    }
   ],
   "source": [
    "# now we print topic description of each title tag \n",
    "topic_descrption =[]\n",
    "for tag in topic_desc_tags:\n",
    "    topic_descrption.append(tag.text.strip())\n",
    "print(topic_descrption)"
   ]
  },
  {
   "cell_type": "code",
   "execution_count": 98,
   "id": "5ef6e6d6-00fe-4726-93d4-587c5faf7fe2",
   "metadata": {},
   "outputs": [
    {
     "data": {
      "text/plain": [
       "['https://github.com/topics/3d',\n",
       " 'https://github.com/topics/ajax',\n",
       " 'https://github.com/topics/algorithm',\n",
       " 'https://github.com/topics/amphp',\n",
       " 'https://github.com/topics/android',\n",
       " 'https://github.com/topics/angular',\n",
       " 'https://github.com/topics/ansible',\n",
       " 'https://github.com/topics/api',\n",
       " 'https://github.com/topics/arduino',\n",
       " 'https://github.com/topics/aspnet',\n",
       " 'https://github.com/topics/atom',\n",
       " 'https://github.com/topics/awesome',\n",
       " 'https://github.com/topics/aws',\n",
       " 'https://github.com/topics/azure',\n",
       " 'https://github.com/topics/babel',\n",
       " 'https://github.com/topics/bash',\n",
       " 'https://github.com/topics/bitcoin',\n",
       " 'https://github.com/topics/bootstrap',\n",
       " 'https://github.com/topics/bot',\n",
       " 'https://github.com/topics/c',\n",
       " 'https://github.com/topics/chrome',\n",
       " 'https://github.com/topics/chrome-extension',\n",
       " 'https://github.com/topics/cli',\n",
       " 'https://github.com/topics/clojure',\n",
       " 'https://github.com/topics/code-quality',\n",
       " 'https://github.com/topics/code-review',\n",
       " 'https://github.com/topics/compiler',\n",
       " 'https://github.com/topics/continuous-integration',\n",
       " 'https://github.com/topics/covid-19',\n",
       " 'https://github.com/topics/cpp']"
      ]
     },
     "execution_count": 98,
     "metadata": {},
     "output_type": "execute_result"
    }
   ],
   "source": [
    "topic_url =[]\n",
    "base_url ='https://github.com'\n",
    "for tag in topic_link_tags:\n",
    "    topic_url.append(base_url+tag['href'])\n",
    "topic_url"
   ]
  },
  {
   "cell_type": "code",
   "execution_count": 101,
   "id": "0a10b643-b3b6-4ec7-b349-01fcaf28ad2c",
   "metadata": {},
   "outputs": [
    {
     "data": {
      "text/plain": [
       "['https://github.com/topics/3d',\n",
       " 'https://github.com/topics/ajax',\n",
       " 'https://github.com/topics/algorithm',\n",
       " 'https://github.com/topics/amphp',\n",
       " 'https://github.com/topics/android',\n",
       " 'https://github.com/topics/angular',\n",
       " 'https://github.com/topics/ansible',\n",
       " 'https://github.com/topics/api',\n",
       " 'https://github.com/topics/arduino',\n",
       " 'https://github.com/topics/aspnet']"
      ]
     },
     "execution_count": 101,
     "metadata": {},
     "output_type": "execute_result"
    }
   ],
   "source": [
    "\n",
    "len(topic_url)\n",
    "topic_url[:10]\n"
   ]
  },
  {
   "cell_type": "code",
   "execution_count": 103,
   "id": "4a3bd6f3-f483-4e41-a5cc-9502933efb32",
   "metadata": {},
   "outputs": [],
   "source": [
    "import pandas as pd \n"
   ]
  },
  {
   "cell_type": "code",
   "execution_count": 107,
   "id": "abe3954c-4bf2-4a2a-8d13-83111f23d196",
   "metadata": {},
   "outputs": [],
   "source": [
    "topic_dict ={\n",
    "    'title':topic_titles,\n",
    "    'description':topic_descrption,\n",
    "    'url':topic_url,\n",
    "}\n"
   ]
  },
  {
   "cell_type": "code",
   "execution_count": 108,
   "id": "fac3aa80-1cf4-496d-a471-e056ff75ea99",
   "metadata": {},
   "outputs": [
    {
     "name": "stdout",
     "output_type": "stream",
     "text": [
      "                     title                                        description  \\\n",
      "0                       3D  3D refers to the use of three-dimensional grap...   \n",
      "1                     Ajax  Ajax is a technique for creating interactive w...   \n",
      "2                Algorithm  Algorithms are self-contained sequences that c...   \n",
      "3                      Amp  Amp is a non-blocking concurrency library for ...   \n",
      "4                  Android  Android is an operating system built by Google...   \n",
      "5                  Angular  Angular is an open source web application plat...   \n",
      "6                  Ansible  Ansible is a simple and powerful automation en...   \n",
      "7                      API  An API (Application Programming Interface) is ...   \n",
      "8                  Arduino  Arduino is an open source platform for buildin...   \n",
      "9                  ASP.NET  ASP.NET is a web framework for building modern...   \n",
      "10                    Atom  Atom is a open source text editor built with w...   \n",
      "11           Awesome Lists  An awesome list is a list of awesome things cu...   \n",
      "12     Amazon Web Services  Amazon Web Services provides on-demand cloud c...   \n",
      "13                   Azure  Azure is a cloud computing service created by ...   \n",
      "14                   Babel  Babel is a compiler for writing next generatio...   \n",
      "15                    Bash  Bash is a shell and command language interpret...   \n",
      "16                 Bitcoin  Bitcoin is a cryptocurrency developed by Satos...   \n",
      "17               Bootstrap  Bootstrap is an HTML, CSS, and JavaScript fram...   \n",
      "18                     Bot  A bot is an application that runs automated ta...   \n",
      "19                       C  C is a general purpose programming language th...   \n",
      "20                  Chrome  Chrome is a web browser from the tech company ...   \n",
      "21        Chrome extension  Chrome extensions enable users to customize th...   \n",
      "22  Command line interface  A CLI, or command-line interface, is a console...   \n",
      "23                 Clojure  Clojure is a dynamic, general-purpose programm...   \n",
      "24            Code quality  Automate your code review with style, quality,...   \n",
      "25             Code review  Ensure your code meets quality standards and s...   \n",
      "26                Compiler  Compilers are software that translate higher-l...   \n",
      "27  Continuous integration  Automatically build and test your code as you ...   \n",
      "28                COVID-19  The coronavirus disease 2019 (COVID-19) is an ...   \n",
      "29                     C++  C++ is a general purpose and object-oriented p...   \n",
      "\n",
      "                                                 url  \n",
      "0                       https://github.com/topics/3d  \n",
      "1                     https://github.com/topics/ajax  \n",
      "2                https://github.com/topics/algorithm  \n",
      "3                    https://github.com/topics/amphp  \n",
      "4                  https://github.com/topics/android  \n",
      "5                  https://github.com/topics/angular  \n",
      "6                  https://github.com/topics/ansible  \n",
      "7                      https://github.com/topics/api  \n",
      "8                  https://github.com/topics/arduino  \n",
      "9                   https://github.com/topics/aspnet  \n",
      "10                    https://github.com/topics/atom  \n",
      "11                 https://github.com/topics/awesome  \n",
      "12                     https://github.com/topics/aws  \n",
      "13                   https://github.com/topics/azure  \n",
      "14                   https://github.com/topics/babel  \n",
      "15                    https://github.com/topics/bash  \n",
      "16                 https://github.com/topics/bitcoin  \n",
      "17               https://github.com/topics/bootstrap  \n",
      "18                     https://github.com/topics/bot  \n",
      "19                       https://github.com/topics/c  \n",
      "20                  https://github.com/topics/chrome  \n",
      "21        https://github.com/topics/chrome-extension  \n",
      "22                     https://github.com/topics/cli  \n",
      "23                 https://github.com/topics/clojure  \n",
      "24            https://github.com/topics/code-quality  \n",
      "25             https://github.com/topics/code-review  \n",
      "26                https://github.com/topics/compiler  \n",
      "27  https://github.com/topics/continuous-integration  \n",
      "28                https://github.com/topics/covid-19  \n",
      "29                     https://github.com/topics/cpp  \n"
     ]
    }
   ],
   "source": [
    "df=pd.DataFrame(topic_dict)\n",
    "print(df)"
   ]
  },
  {
   "cell_type": "code",
   "execution_count": 109,
   "id": "d0dce7b2-e02d-4064-ab92-ba105f035859",
   "metadata": {},
   "outputs": [],
   "source": [
    "df.to_csv('topic.csv')"
   ]
  },
  {
   "cell_type": "code",
   "execution_count": null,
   "id": "b4ace058-1a8d-4598-b62b-c23b27161425",
   "metadata": {},
   "outputs": [],
   "source": []
  }
 ],
 "metadata": {
  "kernelspec": {
   "display_name": "Python 3 (ipykernel)",
   "language": "python",
   "name": "python3"
  },
  "language_info": {
   "codemirror_mode": {
    "name": "ipython",
    "version": 3
   },
   "file_extension": ".py",
   "mimetype": "text/x-python",
   "name": "python",
   "nbconvert_exporter": "python",
   "pygments_lexer": "ipython3",
   "version": "3.12.2"
  }
 },
 "nbformat": 4,
 "nbformat_minor": 5
}
